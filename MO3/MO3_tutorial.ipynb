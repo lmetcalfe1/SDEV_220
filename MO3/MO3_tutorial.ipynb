{
 "cells": [
  {
   "cell_type": "code",
   "execution_count": 3,
   "metadata": {},
   "outputs": [],
   "source": [
    "class Solution:\n",
    "    def sort012(self,arr,n):\n",
    "        # code here\n",
    "        bottom = 0\n",
    "        top = n-1\n",
    "        middle = 0\n",
    "        while middle <= top:\n",
    "            if arr[middle] == 0:\n",
    "                arr[middle] , arr[bottom] = arr[bottom], arr[middle]\n",
    "                middle +=1\n",
    "                bottom += 1\n",
    "            elif arr[middle] == 1:\n",
    "                middle += 1\n",
    "            else:\n",
    "                arr[middle] , arr[top] = arr[top], arr[middle]\n",
    "                top -= 1\n",
    "###Had to access the editorial to learn that the movements had to be done on the same line with a comma seperating them, perviously I had them on their own line, and it was causing \n",
    "# an error with variables being overwrote. Ex: 001122 turned into 001120."
   ]
  },
  {
   "cell_type": "code",
   "execution_count": 6,
   "metadata": {},
   "outputs": [
    {
     "name": "stdout",
     "output_type": "stream",
     "text": [
      "Element is present at index  3\n"
     ]
    }
   ],
   "source": [
    "def binarySearch(arr, l, r, x):\n",
    "    #This function is taking 4 variables, an array, 0(?), a length, and an item to search for and passing them through to the function\n",
    "    if r >= l: #Checking the length of the array is within access of variable L so we don't go larger than the array size\n",
    "        mid = l + (r - l) // 2 #Defining the middle of the array\n",
    "        if arr[mid] == x: #If the number is right in the middle, it will return mid to the result variable below.\n",
    "            return mid# returns the position of the middle number\n",
    "        elif arr[mid] > x: #if it is greater than the searching number, it will move the pointer to the left by rerunning the function minus 1 from the search query\n",
    "            return binarySearch(arr, l, mid-1, x) #Returns mid -1 to the variable r so it can try the next number to the left of the array\n",
    "        else:\n",
    "            return binarySearch(arr, mid + 1, r, x) #Returns the mid +1 to the variable l so it can search to the right of the array, or the larger numbers.\n",
    "    else:\n",
    "        return -1 #returns -1 when the number is not found in the array\n",
    "arr = [2, 3, 4, 10, 40] #Array\n",
    "x = 10 #Search query\n",
    "result = binarySearch(arr, 0, len(arr)-1, x) #Call the function\n",
    "if result != -1: #Value found\n",
    "    print(\"Element is present at index % d\" % result)\n",
    "else: #Value not found \n",
    "    print(\"Element is not present in array\")\n",
    "\n",
    "#Again had to access the editorial. This one made little sense and got very confusing fast. I understand it now."
   ]
  }
 ],
 "metadata": {
  "kernelspec": {
   "display_name": "Python 3",
   "language": "python",
   "name": "python3"
  },
  "language_info": {
   "codemirror_mode": {
    "name": "ipython",
    "version": 3
   },
   "file_extension": ".py",
   "mimetype": "text/x-python",
   "name": "python",
   "nbconvert_exporter": "python",
   "pygments_lexer": "ipython3",
   "version": "3.11.9"
  }
 },
 "nbformat": 4,
 "nbformat_minor": 2
}
