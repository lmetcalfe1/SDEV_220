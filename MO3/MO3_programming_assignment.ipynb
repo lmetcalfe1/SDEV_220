{
 "cells": [
  {
   "cell_type": "code",
   "execution_count": 9,
   "metadata": {},
   "outputs": [
    {
     "name": "stdout",
     "output_type": "stream",
     "text": [
      "mozzarella\n",
      "cinderella\n",
      "salmonella\n"
     ]
    }
   ],
   "source": [
    "#7.4\n",
    "things = [\"mozzarella\", \"cinderella\", \"salmonella\"]\n",
    "for i in things:\n",
    "    print(i)"
   ]
  },
  {
   "cell_type": "code",
   "execution_count": null,
   "metadata": {},
   "outputs": [
    {
     "name": "stdout",
     "output_type": "stream",
     "text": [
      "mozzarella\n",
      "cinderella\n",
      "Salmonella\n"
     ]
    }
   ],
   "source": [
    "#7.5\n",
    "things = [\"mozzarella\", \"cinderella\", \"Salmonella\"]\n",
    "for i in things:\n",
    "    print(i)"
   ]
  },
  {
   "cell_type": "code",
   "execution_count": 10,
   "metadata": {},
   "outputs": [
    {
     "name": "stdout",
     "output_type": "stream",
     "text": [
      "MOZZARELLA\n",
      "cinderella\n",
      "Salmonella\n"
     ]
    }
   ],
   "source": [
    "#7.6\n",
    "things = [\"MOZZARELLA\", \"cinderella\", \"Salmonella\"]\n",
    "for i in things:\n",
    "    print(i)"
   ]
  },
  {
   "cell_type": "code",
   "execution_count": 13,
   "metadata": {},
   "outputs": [
    {
     "name": "stdout",
     "output_type": "stream",
     "text": [
      "MOZZARELLA\n",
      "cinderella\n",
      "you deleted somollia and cured pirates\n",
      "Jack Sparrow hates you.\n"
     ]
    }
   ],
   "source": [
    "#7.7\n",
    "def nobelprize():\n",
    "    print(\"you deleted somollia and cured pirates\\nJack Sparrow hates you.\")\n",
    "things = [\"MOZZARELLA\", \"cinderella\"]\n",
    "for i in things:\n",
    "    print(i)\n",
    "nobelprize()"
   ]
  },
  {
   "cell_type": "code",
   "execution_count": 3,
   "metadata": {},
   "outputs": [
    {
     "data": {
      "text/plain": [
       "['Harry', 'Ron', 'Hermione']"
      ]
     },
     "execution_count": 3,
     "metadata": {},
     "output_type": "execute_result"
    }
   ],
   "source": [
    "#9.1\n",
    "def good():\n",
    "    return ['Harry', 'Ron', 'Hermione']\n",
    "good()"
   ]
  },
  {
   "cell_type": "code",
   "execution_count": 20,
   "metadata": {},
   "outputs": [
    {
     "name": "stdout",
     "output_type": "stream",
     "text": [
      "The odd numbers starting from 10 to 20 are:\n",
      "11\n",
      "13\n",
      "15\n",
      "17\n",
      "19\n",
      "Because the assignment asked for the third variable, here it is: 15\n"
     ]
    }
   ],
   "source": [
    "#9.2\n",
    "def getodds(x):\n",
    "    y = int(x)+10\n",
    "    odds = []\n",
    "    for i in range(int(x), int(y)):\n",
    "        if (i%2) == 1:\n",
    "            odds.append(i)\n",
    "        else:\n",
    "            pass\n",
    "    print(\"The odd numbers starting from \", x ,\" to \" , y, \" are:\", sep='')\n",
    "    for b in odds:\n",
    "        print(b)\n",
    "    print(\"Because the assignment asked for the third variable, here it is:\", odds[2])\n",
    "x = input(\"enter number\")\n",
    "getodds(x)"
   ]
  }
 ],
 "metadata": {
  "kernelspec": {
   "display_name": "Python 3",
   "language": "python",
   "name": "python3"
  },
  "language_info": {
   "codemirror_mode": {
    "name": "ipython",
    "version": 3
   },
   "file_extension": ".py",
   "mimetype": "text/x-python",
   "name": "python",
   "nbconvert_exporter": "python",
   "pygments_lexer": "ipython3",
   "version": "3.11.9"
  }
 },
 "nbformat": 4,
 "nbformat_minor": 2
}
