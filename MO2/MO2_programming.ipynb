{
 "cells": [
  {
   "cell_type": "code",
   "execution_count": 60,
   "metadata": {},
   "outputs": [
    {
     "name": "stdout",
     "output_type": "stream",
     "text": [
      "Guess the random number, 1-10!\n",
      "\n",
      "Too Low, try again\n",
      "Too Low, try again\n",
      "Too Low, try again\n",
      "you got it!, the answer was: 4\n"
     ]
    }
   ],
   "source": [
    "#4.1\n",
    "#Logan Metcalfe\n",
    "#Secret guessing game\n",
    "#This is a simple game to guess a number\n",
    "import random #Imports the module for generating Random numbers\n",
    "print(\"Guess the random number, 1-10!\\n\") #Initial Prompt\n",
    "secret = int(random.randrange(1,11)) #Generates a random number, 1-10, I don't remember why it has to be 11, just that it does.\n",
    "guess = int(input()) #Initial input, the guess, obviously.\n",
    "while guess != secret: #Checks if you have the right answer\n",
    "    if guess < secret: #Too low clause\n",
    "        print(\"Too Low, try again\")\n",
    "    else: #Too high clause\n",
    "        print(\"Too high, try again\")\n",
    "    guess = int(input()) #The guess input is repeated to make another attempt\n",
    "print(\"you got it!, the answer was: \" + str(secret)) #Displays when the answer is correct, and does a top ten gamer moments face reveal of the secret number"
   ]
  },
  {
   "cell_type": "code",
   "execution_count": 4,
   "metadata": {},
   "outputs": [],
   "source": [
    "#4.2\n",
    "#this was a horrible prompt.\n",
    "#Logan Metcalfe\n",
    "#Bool for small and green???\n",
    "#Prints out those two descriptive characteristics and whether or not they're true. \n",
    "small = bool #Initializing the variable\n",
    "green = bool #Same ngl fr fr ong\n",
    "query = input(\"1Enter one of these specific items: Cherry, Pea, Watermelon, Pumpkin: \\n\")\n",
    "query = query.lower()\n",
    "if query == 'cherry':\n",
    "    small = True\n",
    "    green = False\n",
    "elif query == 'pea':\n",
    "    small = True\n",
    "    green = True\n",
    "elif query == 'watermelon':\n",
    "    small = False\n",
    "    green = True\n",
    "elif query == 'pumpkin':\n",
    "    small = False\n",
    "    green = False\n",
    "if small == True:\n",
    "    output = str(\"is small and \")\n",
    "else:\n",
    "    output = str(\"is not small and \")\n",
    "if green == True:\n",
    "    output += str(\"green.\")\n",
    "else:\n",
    "    output += str(\"not green\")\n",
    "print(query , output)\n"
   ]
  },
  {
   "cell_type": "code",
   "execution_count": 15,
   "metadata": {},
   "outputs": [
    {
     "name": "stdout",
     "output_type": "stream",
     "text": [
      "3\n",
      "2\n",
      "1\n",
      "0\n"
     ]
    }
   ],
   "source": [
    "#6.1\n",
    "#Logan Metcalfe\n",
    "#prints numbers\n",
    "#Prints numbers 0-3\n",
    "for i in range(3, -1,-1):\n",
    "    print(i)"
   ]
  },
  {
   "cell_type": "code",
   "execution_count": 18,
   "metadata": {},
   "outputs": [
    {
     "name": "stdout",
     "output_type": "stream",
     "text": [
      "Guess the random number, 1-10!\n",
      "\n",
      "Too Low, try again\n",
      "Too Low, try again\n",
      "Too Low, try again\n",
      "Too Low, try again\n",
      "Too Low, try again\n",
      "Too Low, try again\n",
      "you got it!, the answer was: 7 and you got it in 7 tries\n"
     ]
    }
   ],
   "source": [
    "#6.2\n",
    "#Logan Metcalfe\n",
    "#Secret guessing game\n",
    "#This is a simple game to guess a number\n",
    "import random #Imports the module for generating Random numbers\n",
    "print(\"Guess the random number, 1-10!\\n\") #Initial Prompt\n",
    "secret = int(random.randrange(1,11)) #Generates a random number, 1-10, I don't remember why it has to be 11, just that it does.\n",
    "guess = int(input()) #Initial input, the guess, obviously.\n",
    "count = int(1)\n",
    "while guess != secret: #Checks if you have the right answer\n",
    "    if guess < secret: #Too low clause\n",
    "        print(\"Too Low, try again\")\n",
    "    else: #Too high clause\n",
    "        print(\"Too high, try again\")\n",
    "    count += 1\n",
    "    guess = int(input()) #The guess input is repeated to make another attempt\n",
    "print(\"you got it!, the answer was: \" + str(secret) + ' and you got it in ' + str(count) + ' tries') #Displays when the answer is correct, and does a top ten \n",
    "#gamer moments face reveal of the secret number now with a count too"
   ]
  },
  {
   "cell_type": "code",
   "execution_count": 21,
   "metadata": {},
   "outputs": [
    {
     "name": "stdout",
     "output_type": "stream",
     "text": [
      "0\n",
      "too low\n",
      "1\n",
      "too low\n",
      "2\n",
      "too low\n",
      "3\n",
      "too low\n",
      "4\n",
      "too low\n",
      "5\n",
      "Just right\n"
     ]
    }
   ],
   "source": [
    "#6.3\n",
    "#Logan Metcalfe\n",
    "#Another one of these number chasing things idk why\n",
    "number = int(5)\n",
    "for i in range(10):\n",
    "    if i < number:\n",
    "        print(i)\n",
    "        print(\"too low\")\n",
    "    if i == number:\n",
    "        print(i)\n",
    "        print(\"Just right\")"
   ]
  }
 ],
 "metadata": {
  "kernelspec": {
   "display_name": "Python 3",
   "language": "python",
   "name": "python3"
  },
  "language_info": {
   "codemirror_mode": {
    "name": "ipython",
    "version": 3
   },
   "file_extension": ".py",
   "mimetype": "text/x-python",
   "name": "python",
   "nbconvert_exporter": "python",
   "pygments_lexer": "ipython3",
   "version": "3.11.9"
  }
 },
 "nbformat": 4,
 "nbformat_minor": 2
}
