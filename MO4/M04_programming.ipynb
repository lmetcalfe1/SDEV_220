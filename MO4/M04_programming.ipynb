{
 "cells": [
  {
   "cell_type": "code",
   "execution_count": 2,
   "metadata": {},
   "outputs": [
    {
     "data": {
      "text/plain": [
       "'open 9-5 daily'"
      ]
     },
     "execution_count": 2,
     "metadata": {},
     "output_type": "execute_result"
    }
   ],
   "source": [
    "import zoo\n",
    "zoo.hours()"
   ]
  },
  {
   "cell_type": "code",
   "execution_count": 3,
   "metadata": {},
   "outputs": [
    {
     "data": {
      "text/plain": [
       "'open 9-5 daily'"
      ]
     },
     "execution_count": 3,
     "metadata": {},
     "output_type": "execute_result"
    }
   ],
   "source": [
    "import zoo as menagerie\n",
    "menagerie.hours()"
   ]
  },
  {
   "cell_type": "code",
   "execution_count": null,
   "metadata": {},
   "outputs": [],
   "source": [
    "import sqlite3 as db\n",
    "from sqlite3.ext.declarative import declarative_base\n",
    "\n",
    "Base = declarative_base()\n",
    " \n",
    "\n",
    "# CREATE THE TABLE MODEL TO USE IT FOR QUERYING\n",
    "class Books(Base):\n",
    "\n",
    "   __tablename__ = 'Books'\n",
    "\n",
    "   Title = db.Column(db.String(50), primary_key=True)\n",
    "   \n",
    "\n",
    "\n",
    "# PREPARING SQLALCHEMY QUERY\n",
    "with engine.connect() as conn:\n",
    "   result = conn.execute(\n",
    "       db.select([Books.Title])\n",
    "       )\n",
    "\n",
    "# VIEW THE COLUMN NAMES\n",
    "print(result.keys())"
   ]
  }
 ],
 "metadata": {
  "kernelspec": {
   "display_name": "Python 3",
   "language": "python",
   "name": "python3"
  },
  "language_info": {
   "codemirror_mode": {
    "name": "ipython",
    "version": 3
   },
   "file_extension": ".py",
   "mimetype": "text/x-python",
   "name": "python",
   "nbconvert_exporter": "python",
   "pygments_lexer": "ipython3",
   "version": "3.11.9"
  }
 },
 "nbformat": 4,
 "nbformat_minor": 2
}
