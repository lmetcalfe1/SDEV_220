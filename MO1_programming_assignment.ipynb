{
 "cells": [
  {
   "cell_type": "code",
   "execution_count": 50,
   "metadata": {},
   "outputs": [
    {
     "name": "stdout",
     "output_type": "stream",
     "text": [
      "This program will convert hours to seconds.\n",
      "1 hour(s) is equal to 3600 seconds.\n"
     ]
    }
   ],
   "source": [
    "#3.1\n",
    "hr = 1 \n",
    "minutes = 60\n",
    "seconds = 60\n",
    "print (\"This program will convert hours to seconds.\")\n",
    "#information about what is printing into console\n",
    "minutes *= hr \n",
    "seconds *= minutes\n",
    "print(hr , \" hour(s) is equal to \" , seconds , \" seconds.\" , sep='')\n",
    "#This program prints multiplies the \"seconds\" variable (60 by default) by the \"minutes\" variable \n",
    "#(also 60 by default) and \"minutes\" by \"hr\" (default is 1) to get an output for the amount of \n",
    "#seconds in any given hour.\n",
    "\n",
    "#To answer the question, 3600 seconds."
   ]
  },
  {
   "cell_type": "code",
   "execution_count": 51,
   "metadata": {},
   "outputs": [
    {
     "name": "stdout",
     "output_type": "stream",
     "text": [
      "3600\n"
     ]
    }
   ],
   "source": [
    "#3.2\n",
    "seconds_per_hour = seconds #What is the point of this one\n",
    "print(seconds_per_hour) #testing to ensure the variable is still tracking."
   ]
  },
  {
   "cell_type": "code",
   "execution_count": 52,
   "metadata": {},
   "outputs": [
    {
     "name": "stdout",
     "output_type": "stream",
     "text": [
      "3600\n"
     ]
    }
   ],
   "source": [
    "#3.3\n",
    "seconds_per_hour * 24 \n",
    "print(seconds_per_hour)"
   ]
  },
  {
   "cell_type": "code",
   "execution_count": 53,
   "metadata": {},
   "outputs": [
    {
     "name": "stdout",
     "output_type": "stream",
     "text": [
      "This program will convert hours to seconds.\n",
      "24 hour(s) is equal to 86400 seconds.\n"
     ]
    }
   ],
   "source": [
    "#3.4\n",
    "hr = 24\n",
    "minutes = 60\n",
    "seconds = 60\n",
    "print (\"This program will convert hours to seconds.\")\n",
    "minutes *= hr\n",
    "seconds *= minutes\n",
    "print(hr , \" hour(s) is equal to \" , seconds , \" seconds.\" , sep='')\n",
    "seconds_per_day = seconds\n",
    "\n",
    "#There are 86400 seconds in a day"
   ]
  },
  {
   "cell_type": "code",
   "execution_count": 54,
   "metadata": {},
   "outputs": [
    {
     "name": "stdout",
     "output_type": "stream",
     "text": [
      "24.0\n"
     ]
    }
   ],
   "source": [
    "#3.5\n",
    "hoursPerDay = seconds_per_day / seconds_per_hour\n",
    "print (hoursPerDay)"
   ]
  },
  {
   "cell_type": "code",
   "execution_count": 55,
   "metadata": {},
   "outputs": [
    {
     "name": "stdout",
     "output_type": "stream",
     "text": [
      "24\n"
     ]
    }
   ],
   "source": [
    "#3.6\n",
    "hoursPerDay = seconds_per_day // seconds_per_hour\n",
    "print (hoursPerDay)\n",
    "\n",
    "#Yes."
   ]
  }
 ],
 "metadata": {
  "kernelspec": {
   "display_name": "Python 3",
   "language": "python",
   "name": "python3"
  },
  "language_info": {
   "codemirror_mode": {
    "name": "ipython",
    "version": 3
   },
   "file_extension": ".py",
   "mimetype": "text/x-python",
   "name": "python",
   "nbconvert_exporter": "python",
   "pygments_lexer": "ipython3",
   "version": "3.11.9"
  }
 },
 "nbformat": 4,
 "nbformat_minor": 2
}
