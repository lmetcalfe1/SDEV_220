{
 "cells": [
  {
   "cell_type": "code",
   "execution_count": 3,
   "metadata": {},
   "outputs": [
    {
     "name": "stdout",
     "output_type": "stream",
     "text": [
      "2024-07-13\n"
     ]
    }
   ],
   "source": [
    "#13.1\n",
    "from datetime import date\n",
    "todaysDate = date.today()\n",
    "todaysDate.isoformat()\n",
    "print(todaysDate)\n",
    "day = open(\"today.txt\", \"w+\")\n",
    "day.write(str(todaysDate))\n",
    "day.close()\n"
   ]
  },
  {
   "cell_type": "code",
   "execution_count": 9,
   "metadata": {},
   "outputs": [
    {
     "name": "stdout",
     "output_type": "stream",
     "text": [
      "2024-07-13\n"
     ]
    }
   ],
   "source": [
    "#13.2 and 13.3 I think?? This assignment is terrible.\n",
    "today_string = open(\"today.txt\", \"r\")\n",
    "print(today_string.read())\n",
    "today_string.close()"
   ]
  },
  {
   "cell_type": "code",
   "execution_count": 11,
   "metadata": {},
   "outputs": [
    {
     "name": "stdout",
     "output_type": "stream",
     "text": [
      "Today's date and time is 2024-07-13 16:05:40.019202\n",
      "Today's date and time is 2024-07-13 16:05:40.425422\n",
      "Today's date and time is 2024-07-13 16:05:40.779106\n"
     ]
    }
   ],
   "source": [
    "#15.1\n",
    "import multiprocessing\n",
    "from datetime import datetime\n",
    "import time\n",
    "import random\n",
    "def ptime():\n",
    "   cur = datetime.now()\n",
    "   print(\"Today's date and time is {}\".format(cur))\n",
    "   time.sleep(random.random())\n",
    "if __name__ == '__main__':\n",
    "   proc1 = multiprocessing.Process(target=ptime())\n",
    "   proc2 = multiprocessing.Process(target=ptime())\n",
    "   proc3 = multiprocessing.Process(target=ptime())\n",
    "   proc1.start()\n",
    "   proc2.start()\n",
    "   proc3.start()\n",
    "   proc1.join()\n",
    "   proc2.join()\n",
    "   proc3.join()"
   ]
  }
 ],
 "metadata": {
  "kernelspec": {
   "display_name": "Python 3",
   "language": "python",
   "name": "python3"
  },
  "language_info": {
   "codemirror_mode": {
    "name": "ipython",
    "version": 3
   },
   "file_extension": ".py",
   "mimetype": "text/x-python",
   "name": "python",
   "nbconvert_exporter": "python",
   "pygments_lexer": "ipython3",
   "version": "3.11.9"
  }
 },
 "nbformat": 4,
 "nbformat_minor": 2
}
